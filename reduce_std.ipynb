{
 "cells": [
  {
   "cell_type": "code",
   "execution_count": 1,
   "metadata": {
    "collapsed": false
   },
   "outputs": [],
   "source": [
    "# coding: utf-8\n",
    "# (c) 2016-02-12 Teruhisa Okada\n",
    "\n",
    "import netCDF4\n",
    "import shutil\n",
    "import numpy as np\n",
    "\n",
    "std_tmp = '/home/okada/Data/ob500_std_i_param_v1_NL1_{0:04d}.nc'\n",
    "std_main = '/home/okada/Data/ob500_std_i_param_v1_NL1.nc'\n",
    "std_zeros = '/home/okada/Data/ob500_std_i_zeros.nc'\n",
    "grdfile = '/home/okada/Data/ob500_grd-11_3.nc'\n",
    "\n",
    "vnames = ['temp', 'salt', 'NO3', 'NH4', 'chlorophyll', 'phytoplankton', 'zooplankton', \n",
    "          'LdetritusN', 'SdetritusN', 'oxygen', 'PO4', 'LdetritusP', 'SdetritusP']\n",
    "\n",
    "shutil.copyfile(std_zeros, std_main)\n",
    "main = netCDF4.Dataset(std_main, 'a')\n",
    "\n",
    "for i in range(12):\n",
    "    stdfile = std_tmp.format(i+1)\n",
    "    nc = netCDF4.Dataset(stdfile, 'r')\n",
    "    for vname in vnames:\n",
    "        main[vname][i] = nc[vname][0]\n",
    "    nc.close()\n",
    "\n",
    "main.close()\n"
   ]
  },
  {
   "cell_type": "code",
   "execution_count": null,
   "metadata": {
    "collapsed": true
   },
   "outputs": [],
   "source": []
  }
 ],
 "metadata": {
  "kernelspec": {
   "display_name": "Python 2",
   "language": "python",
   "name": "python2"
  },
  "language_info": {
   "codemirror_mode": {
    "name": "ipython",
    "version": 2
   },
   "file_extension": ".py",
   "mimetype": "text/x-python",
   "name": "python",
   "nbconvert_exporter": "python",
   "pygments_lexer": "ipython2",
   "version": "2.7.11"
  }
 },
 "nbformat": 4,
 "nbformat_minor": 0
}
